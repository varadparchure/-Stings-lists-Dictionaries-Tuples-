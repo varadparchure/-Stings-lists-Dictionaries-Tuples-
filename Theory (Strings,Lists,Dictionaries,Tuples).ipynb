# Basics

STRINGS

Denoted by ""
They are immutable
Can use + and * for their respective purposes
Strings can be sliced using [:]
There are many string methods (upper,lower,find,(also these methods can take slice arguments))
in operator returns True/False


LISTS

Denoted by []
There can be nested lists
Lists are mutable and indexed using integers
operators + and * have same usage as in strings
Slices work on lists too
Lists have various methods(append,extend,sort etc)
Delete elements in list{ l.pop() ,  del l[]  , l.remove() }
Convert strings characters to List use function list()
Convert strings words to list use .split()
Convert string to lists with delimiter (delimiter="dname")l.split(delimiter)
Convert List to string (delimiter="dname") delimiter.join(l)
Object values string-> same object
                       if a="banana"
                          b="banana"
Object values Lists-> Different objects
                      if a=[1,2,3]
                         b=[1,2,3]
                         they are two separate lists
Aliasing if for a list a=b then b is same as a and if b is modified then a gets modified




DICTIONARY

Denoted by {"key":"value"}
Dictionary are like lists but indices can be any type
Key - Value pairs
dict() word is used to initialize new dictionary
Invert dictionary to list is possible using invert_dict()
Hashable i.e it uses hash table for searching key-value pairs


GLOBAL VARIABLES

example
been_called= False
def example():
    been_called= True  ->wrong (this creates a local variable)
    
    global been_called    
    been_called =True   ->Right




TUPLES


Are like lists ()
They are immutable
Slicing works on a tuple
Tuple assignment is easy a,b=b,a this will interchange the values
Tuple divmod(no,no) will give Q and R
Min Max can work on Tuple sum does not
Zip can be used on tuples and string to create tuple from each datatype
Dictionarys are obtained from tuples using .items() method and viceversa using dict(tuple)

                     
